{
  "nbformat": 4,
  "nbformat_minor": 0,
  "metadata": {
    "colab": {
      "provenance": [],
      "authorship_tag": "ABX9TyPaczBQ+sUNpv7j/KnXmQSR",
      "include_colab_link": true
    },
    "kernelspec": {
      "name": "python3",
      "display_name": "Python 3"
    },
    "language_info": {
      "name": "python"
    }
  },
  "cells": [
    {
      "cell_type": "markdown",
      "metadata": {
        "id": "view-in-github",
        "colab_type": "text"
      },
      "source": [
        "<a href=\"https://colab.research.google.com/github/SSarvesh7206/Capstone_project_S.Sarvesh/blob/main/Model_2.ipynb\" target=\"_parent\"><img src=\"https://colab.research.google.com/assets/colab-badge.svg\" alt=\"Open In Colab\"/></a>"
      ]
    },
    {
      "cell_type": "code",
      "execution_count": null,
      "metadata": {
        "id": "f3Y7DYWhY8QF"
      },
      "outputs": [],
      "source": [
        "!pip install pathway bokeh --quiet"
      ]
    },
    {
      "cell_type": "code",
      "source": [
        "import numpy as np\n",
        "import pandas as pd\n",
        "import matplotlib.pyplot as plt\n",
        "import datetime\n",
        "from datetime import datetime\n",
        "import pathway as pw\n",
        "import bokeh.plotting\n",
        "import panel as pn"
      ],
      "metadata": {
        "id": "WJr_Bwp2W4uS"
      },
      "execution_count": null,
      "outputs": []
    },
    {
      "cell_type": "code",
      "source": [
        "data=pd.read_csv(\"/content/dataset.csv\",index_col=0)"
      ],
      "metadata": {
        "id": "pCcIKys0XP0_"
      },
      "execution_count": null,
      "outputs": []
    },
    {
      "cell_type": "code",
      "source": [
        "data['Timestamp'] = pd.to_datetime(data['LastUpdatedDate'] + ' ' + data['LastUpdatedTime'],\n",
        "                                  format='%d-%m-%Y %H:%M:%S')\n",
        "data = data.sort_values('Timestamp').reset_index(drop=True)"
      ],
      "metadata": {
        "id": "AqxQ3KD0XhAk"
      },
      "execution_count": null,
      "outputs": []
    },
    {
      "cell_type": "code",
      "source": [
        "data[\"VehicleType\"][data[\"VehicleType\"]==\"cycle\"]=1\n",
        "data[\"VehicleType\"][data[\"VehicleType\"]==\"bike\"]=2\n",
        "data[\"VehicleType\"][data[\"VehicleType\"]==\"car\"]=3\n",
        "data[\"VehicleType\"][data[\"VehicleType\"]==\"truck\"]=4\n",
        "data[\"TrafficConditionNearby\"][data[\"TrafficConditionNearby\"]==\"low\"]=1\n",
        "data[\"TrafficConditionNearby\"][data[\"TrafficConditionNearby\"]==\"average\"]=2\n",
        "data[\"TrafficConditionNearby\"][data[\"TrafficConditionNearby\"]==\"high\"]=3\n",
        "data[\"TrafficConditionNearby\"]=(data[\"TrafficConditionNearby\"]).astype(int)\n",
        "data[\"VehicleType\"]=(data[\"VehicleType\"]).astype(int)\n",
        "data[\"IsSpecialDay\"]=(data[\"IsSpecialDay\"]).astype(int)\n",
        "data[\"Occupancy\"]=(data[\"Occupancy\"]).astype(int)\n",
        "data[\"Capacity\"]=(data[\"Capacity\"]).astype(int)\n",
        "data[\"Occupancy_rate\"]=data[\"Occupancy\"]/data[\"Capacity\"]"
      ],
      "metadata": {
        "id": "TkyhD_X1Xm-1"
      },
      "execution_count": null,
      "outputs": []
    },
    {
      "cell_type": "code",
      "source": [
        "class ParkingSchema2(pw.Schema):\n",
        "  Timestamp : str\n",
        "  VehicleType : int\n",
        "  TrafficConditionNearby : int\n",
        "  IsSpecialDay : int\n",
        "  Occupancy_rate : float\n",
        "  QueueLength : int"
      ],
      "metadata": {
        "id": "L8vFWE7aYp71"
      },
      "execution_count": null,
      "outputs": []
    },
    {
      "cell_type": "code",
      "source": [
        "data[[\"Timestamp\",\"VehicleType\",\"TrafficConditionNearby\",\"IsSpecialDay\",\"Occupancy_rate\",\"QueueLength\"]].to_csv(\"parking_stream2.csv\",index=False)"
      ],
      "metadata": {
        "id": "c7f0DXoMZ7AS"
      },
      "execution_count": null,
      "outputs": []
    },
    {
      "cell_type": "code",
      "source": [
        "data_stream2=pw.demo.replay_csv(\"/content/parking_stream2.csv\",schema=ParkingSchema2,input_rate=1800)"
      ],
      "metadata": {
        "id": "gwRFKlK8aSKI"
      },
      "execution_count": null,
      "outputs": []
    },
    {
      "cell_type": "code",
      "source": [
        "fmt = \"%Y-%m-%d %H:%M:%S\"\n",
        "data_with_time2 = data_stream2.with_columns(\n",
        "    t = data_stream2.Timestamp.dt.strptime(fmt),\n",
        "    day = data_stream2.Timestamp.dt.strptime(fmt).dt.strftime(\"%Y-%m-%dT00:00:00\")\n",
        ")"
      ],
      "metadata": {
        "id": "dYwuZDNIaVFT"
      },
      "execution_count": null,
      "outputs": []
    },
    {
      "cell_type": "code",
      "source": [
        "import datetime\n",
        "delta_window2 = (\n",
        "    data_with_time2.windowby(\n",
        "        pw.this.t,\n",
        "        instance=pw.this.day,\n",
        "        window=pw.temporal.tumbling(duration=datetime.timedelta(minutes=30)),\n",
        "        behavior=pw.temporal.exactly_once_behavior()\n",
        "    )\n",
        "    .reduce(\n",
        "        t=pw.this._pw_window_end,\n",
        "        vehtype=pw.reducers.avg(pw.this.VehicleType),\n",
        "        traffic=pw.reducers.max(pw.this.TrafficConditionNearby),\n",
        "        special=pw.reducers.max(pw.this.IsSpecialDay),\n",
        "        occ_rate_avg=pw.reducers.avg(pw.this.Occupancy_rate),\n",
        "        queue=pw.reducers.max(pw.this.QueueLength),\n",
        "    )\n",
        "    .with_columns(\n",
        "        price=pw.if_else(pw.this.queue>13,10*(1+4*(((pw.this.vehtype)/4)-(pw.this.traffic/3)**2+2*(pw.this.special)+(pw.this.occ_rate_avg)+((pw.this.queue)/15**0.5))/25),\n",
        "              pw.if_else(pw.this.queue>10 ,10*(1+4*(((pw.this.vehtype)/4)-(pw.this.traffic/3)**2+2*(pw.this.special)+(pw.this.occ_rate_avg)+((pw.this.queue)/15**0.7))/25),\n",
        "              pw.if_else(pw.this.queue>5 ,10*(1+3*(((pw.this.vehtype)/4)-(pw.this.traffic/3)**2+2*(pw.this.special)+(pw.this.occ_rate_avg)+((pw.this.queue)/15))/25),\n",
        "              pw.if_else(pw.this.queue>3 ,10*(1+((pw.this.vehtype/4)+pw.this.occ_rate_avg+pw.this.special)/6),10)))),\n",
        "\n",
        "    )\n",
        "\n",
        ")"
      ],
      "metadata": {
        "id": "pPxL8QDpacQ2"
      },
      "execution_count": null,
      "outputs": []
    },
    {
      "cell_type": "code",
      "source": [
        "pn.extension()\n",
        "def price_plotter2(source):\n",
        "\n",
        "    fig = bokeh.plotting.figure(\n",
        "        height=400,\n",
        "        width=1000,\n",
        "        title=\"Pathway: Daily Parking Price_Model2\",\n",
        "        x_axis_type=\"datetime\",\n",
        "    )\n",
        "\n",
        "    fig.line(\"t\", \"price\", source=source, line_width=2, color=\"green\")\n",
        "\n",
        "\n",
        "    fig.circle(\"t\", \"price\", source=source, size=6, color=\"navy\")\n",
        "\n",
        "    return fig\n",
        "viz = delta_window2.plot(price_plotter2, sorting_col=\"t\")\n",
        "pn.Column(viz).servable()"
      ],
      "metadata": {
        "id": "4tIVTdmmhi1_"
      },
      "execution_count": null,
      "outputs": []
    },
    {
      "cell_type": "code",
      "source": [
        "%%capture --no-display\n",
        "pw.run()"
      ],
      "metadata": {
        "id": "wvDE73Juhjnq"
      },
      "execution_count": null,
      "outputs": []
    },
    {
      "cell_type": "code",
      "source": [],
      "metadata": {
        "id": "6TQMkU-BiSOG"
      },
      "execution_count": null,
      "outputs": []
    }
  ]
}