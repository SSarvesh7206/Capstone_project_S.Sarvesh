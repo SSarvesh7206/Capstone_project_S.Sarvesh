{
  "nbformat": 4,
  "nbformat_minor": 0,
  "metadata": {
    "colab": {
      "provenance": [],
      "authorship_tag": "ABX9TyNotPItMsDccq6LfHisy14m",
      "include_colab_link": true
    },
    "kernelspec": {
      "name": "python3",
      "display_name": "Python 3"
    },
    "language_info": {
      "name": "python"
    }
  },
  "cells": [
    {
      "cell_type": "markdown",
      "metadata": {
        "id": "view-in-github",
        "colab_type": "text"
      },
      "source": [
        "<a href=\"https://colab.research.google.com/github/SSarvesh7206/Capstone_project_S.Sarvesh/blob/main/Model_1.ipynb\" target=\"_parent\"><img src=\"https://colab.research.google.com/assets/colab-badge.svg\" alt=\"Open In Colab\"/></a>"
      ]
    },
    {
      "cell_type": "code",
      "execution_count": null,
      "metadata": {
        "id": "iAbcJ0MWVKeK"
      },
      "outputs": [],
      "source": [
        "!pip install pathway bokeh --quiet"
      ]
    },
    {
      "cell_type": "code",
      "source": [
        "import numpy as np\n",
        "import pandas as pd\n",
        "import matplotlib.pyplot as plt\n",
        "import datetime\n",
        "from datetime import datetime\n",
        "import pathway as pw\n",
        "import bokeh.plotting\n",
        "import panel as pn"
      ],
      "metadata": {
        "id": "WJr_Bwp2W4uS"
      },
      "execution_count": null,
      "outputs": []
    },
    {
      "cell_type": "code",
      "source": [
        "data=pd.read_csv(\"/content/dataset.csv\",index_col=0)"
      ],
      "metadata": {
        "id": "pCcIKys0XP0_"
      },
      "execution_count": null,
      "outputs": []
    },
    {
      "cell_type": "code",
      "source": [
        "data['Timestamp'] = pd.to_datetime(data['LastUpdatedDate'] + ' ' + data['LastUpdatedTime'],\n",
        "                                  format='%d-%m-%Y %H:%M:%S')\n",
        "data = data.sort_values('Timestamp').reset_index(drop=True)"
      ],
      "metadata": {
        "id": "AqxQ3KD0XhAk"
      },
      "execution_count": null,
      "outputs": []
    },
    {
      "cell_type": "code",
      "source": [
        "data[\"Occupancy_rate\"]=data[\"Occupancy\"]/data[\"Capacity\"]"
      ],
      "metadata": {
        "id": "ivFa5P9_aycb"
      },
      "execution_count": null,
      "outputs": []
    },
    {
      "cell_type": "code",
      "source": [
        "class ParkingSchema1(pw.Schema):\n",
        "  Timestamp : str\n",
        "  Occupancy_rate  : float"
      ],
      "metadata": {
        "id": "oqFe74Zkas5U"
      },
      "execution_count": null,
      "outputs": []
    },
    {
      "cell_type": "code",
      "source": [
        "data[[\"Timestamp\",\"Occupancy_rate\"]].to_csv(\"parking_stream1.csv\",index=False)"
      ],
      "metadata": {
        "id": "RKZwOWUDa383"
      },
      "execution_count": null,
      "outputs": []
    },
    {
      "cell_type": "code",
      "source": [
        "data_stream1=pw.demo.replay_csv(\"/content/parking_stream1.csv\",schema=ParkingSchema1,input_rate=1800)"
      ],
      "metadata": {
        "id": "PdTf_kl_a5zM"
      },
      "execution_count": null,
      "outputs": []
    },
    {
      "cell_type": "code",
      "source": [
        "fmt = \"%Y-%m-%d %H:%M:%S\"\n",
        "data_with_time1 = data_stream1.with_columns(\n",
        "    t = data_stream1.Timestamp.dt.strptime(fmt),\n",
        "    day = data_stream1.Timestamp.dt.strptime(fmt).dt.strftime(\"%Y-%m-%dT00:00:00\")\n",
        ")"
      ],
      "metadata": {
        "id": "faPIQUFGa-aF"
      },
      "execution_count": null,
      "outputs": []
    },
    {
      "cell_type": "code",
      "source": [
        "import datetime\n",
        "\n",
        "delta_window1 = (\n",
        "    data_with_time1.windowby(\n",
        "        pw.this.t,\n",
        "        instance=pw.this.day,\n",
        "        window=pw.temporal.tumbling(duration=datetime.timedelta(minutes=30)),\n",
        "        behavior=pw.temporal.exactly_once_behavior()\n",
        "    )\n",
        "    .reduce(\n",
        "        t=pw.this._pw_window_end,\n",
        "        occ_rate_avg=pw.reducers.avg(pw.this.Occupancy_rate),\n",
        "    )\n",
        "    .with_columns(\n",
        "    price=pw.if_else(pw.this.occ_rate_avg>0.7,10*(1+(pw.this.occ_rate_avg)),\n",
        "          pw.if_else(pw.this.occ_rate_avg>0.5,10*(1+0.7*pw.this.occ_rate_avg),\n",
        "          pw.if_else(pw.this.occ_rate_avg>0.3,10*(1+0.5*pw.this.occ_rate_avg),10\n",
        "          )))\n",
        ")\n",
        ")"
      ],
      "metadata": {
        "id": "IW-8FQPubA3H"
      },
      "execution_count": null,
      "outputs": []
    },
    {
      "cell_type": "code",
      "source": [
        "pn.extension()\n",
        "\n",
        "\n",
        "def price_plotter1(source):\n",
        "\n",
        "    fig = bokeh.plotting.figure(\n",
        "        height=400,\n",
        "        width=1000,\n",
        "        title=\"Pathway: Daily Parking Price_Model1\",\n",
        "        x_axis_type=\"datetime\",\n",
        "    )\n",
        "\n",
        "    fig.line(\"t\", \"price\", source=source, line_width=2, color=\"navy\")\n",
        "\n",
        "\n",
        "    fig.circle(\"t\", \"price\", source=source, size=6, color=\"red\")\n",
        "\n",
        "    return fig\n",
        "\n",
        "\n",
        "viz = delta_window1.plot(price_plotter1, sorting_col=\"t\")\n",
        "\n",
        "\n",
        "\n",
        "pn.Column(viz).servable()"
      ],
      "metadata": {
        "id": "eHjxDDo3bEBr"
      },
      "execution_count": null,
      "outputs": []
    },
    {
      "cell_type": "code",
      "source": [
        "%%capture --no-display\n",
        "pw.run()"
      ],
      "metadata": {
        "id": "lzN4TpZPbHXC"
      },
      "execution_count": null,
      "outputs": []
    },
    {
      "cell_type": "code",
      "source": [],
      "metadata": {
        "id": "T-WTbFIAdYt0"
      },
      "execution_count": null,
      "outputs": []
    }
  ]
}